{
 "cells": [
  {
   "cell_type": "code",
   "execution_count": 2,
   "id": "82e57e80",
   "metadata": {},
   "outputs": [
    {
     "name": "stdout",
     "output_type": "stream",
     "text": [
      "[✔] Video saved: /home/nazir/NeurIPS2023_SOC/segmented_videos/43cCJXD45xw_segmented.mp4\n",
      "[✔] Video saved: /home/nazir/NeurIPS2023_SOC/segmented_videos/3grcsJN2C4U_segmented.mp4\n",
      "[✔] Video saved: /home/nazir/NeurIPS2023_SOC/segmented_videos/5HWNziFGRMQ_segmented.mp4\n",
      "[✔] Video saved: /home/nazir/NeurIPS2023_SOC/segmented_videos/2G9DODKHHIM_segmented.mp4\n",
      "[✔] Video saved: /home/nazir/NeurIPS2023_SOC/segmented_videos/1J67hpI4wOk_segmented.mp4\n",
      "[✔] Video saved: /home/nazir/NeurIPS2023_SOC/segmented_videos/0uv_N0EhfmQ_segmented.mp4\n",
      "[✔] Video saved: /home/nazir/NeurIPS2023_SOC/segmented_videos/3rbzcgnKWV8_segmented.mp4\n",
      "[✔] Video saved: /home/nazir/NeurIPS2023_SOC/segmented_videos/2yu9Qkdo4HY_segmented.mp4\n",
      "[✔] Video saved: /home/nazir/NeurIPS2023_SOC/segmented_videos/15ze_5lekm4_segmented.mp4\n",
      "[✔] Video saved: /home/nazir/NeurIPS2023_SOC/segmented_videos/3zsM3jBwWIM_segmented.mp4\n",
      "[✔] Video saved: /home/nazir/NeurIPS2023_SOC/segmented_videos/1zbiSzq-xPM_segmented.mp4\n",
      "[✔] Video saved: /home/nazir/NeurIPS2023_SOC/segmented_videos/-AyZV127fCg_segmented.mp4\n",
      "[✔] Video saved: /home/nazir/NeurIPS2023_SOC/segmented_videos/0lxhJQFzikQ_segmented.mp4\n",
      "[✔] Video saved: /home/nazir/NeurIPS2023_SOC/segmented_videos/0RBrmdUTPkE_segmented.mp4\n",
      "[✔] Video saved: /home/nazir/NeurIPS2023_SOC/segmented_videos/4oYv3cxuwwc_segmented.mp4\n",
      "[✔] Video saved: /home/nazir/NeurIPS2023_SOC/segmented_videos/0XqFHeynFwM_segmented.mp4\n",
      "[✔] Video saved: /home/nazir/NeurIPS2023_SOC/segmented_videos/2KlA77j6xAc_segmented.mp4\n",
      "[✔] Video saved: /home/nazir/NeurIPS2023_SOC/segmented_videos/-xXJZjaJZ_Y_segmented.mp4\n",
      "[✔] Video saved: /home/nazir/NeurIPS2023_SOC/segmented_videos/025gzoHW30M_segmented.mp4\n",
      "[✔] Video saved: /home/nazir/NeurIPS2023_SOC/segmented_videos/5C8dVmyrUrk_segmented.mp4\n",
      "[✔] Video saved: /home/nazir/NeurIPS2023_SOC/segmented_videos/-MTB_0zfFXc_segmented.mp4\n",
      "[✔] Video saved: /home/nazir/NeurIPS2023_SOC/segmented_videos/4THg1hTk7JE_segmented.mp4\n",
      "[✔] Video saved: /home/nazir/NeurIPS2023_SOC/segmented_videos/57AYg0BbqjY_segmented.mp4\n",
      "[✔] Video saved: /home/nazir/NeurIPS2023_SOC/segmented_videos/1NZgPOEn66U_segmented.mp4\n",
      "[✔] Video saved: /home/nazir/NeurIPS2023_SOC/segmented_videos/1_rWbFfaGNE_segmented.mp4\n",
      "[✔] Video saved: /home/nazir/NeurIPS2023_SOC/segmented_videos/3hge80zUXb8_segmented.mp4\n",
      "[✔] Video saved: /home/nazir/NeurIPS2023_SOC/segmented_videos/4cwJEqSzXbg_segmented.mp4\n",
      "[✔] Video saved: /home/nazir/NeurIPS2023_SOC/segmented_videos/5EQO8sB7qEk_segmented.mp4\n",
      "[✔] Video saved: /home/nazir/NeurIPS2023_SOC/segmented_videos/1Ib_2-qdFhk_segmented.mp4\n",
      "[✔] Video saved: /home/nazir/NeurIPS2023_SOC/segmented_videos/-FeMotilSE8_segmented.mp4\n",
      "[✔] Video saved: /home/nazir/NeurIPS2023_SOC/segmented_videos/0319d9UyJkk_segmented.mp4\n",
      "[✔] Video saved: /home/nazir/NeurIPS2023_SOC/segmented_videos/508xrJNlrE4_segmented.mp4\n",
      "[✔] Video saved: /home/nazir/NeurIPS2023_SOC/segmented_videos/-JaavP2RFzA_segmented.mp4\n",
      "[✔] Video saved: /home/nazir/NeurIPS2023_SOC/segmented_videos/4_ITertK6K0_segmented.mp4\n",
      "[✔] Video saved: /home/nazir/NeurIPS2023_SOC/segmented_videos/-7EE9T3Z0qk_segmented.mp4\n",
      "[✔] Video saved: /home/nazir/NeurIPS2023_SOC/segmented_videos/5MgnA8i9GJE_segmented.mp4\n",
      "[✔] Video saved: /home/nazir/NeurIPS2023_SOC/segmented_videos/2mbKtAnU2c4_segmented.mp4\n",
      "[✔] Video saved: /home/nazir/NeurIPS2023_SOC/segmented_videos/-d82zJg5qoY_segmented.mp4\n",
      "[✔] Video saved: /home/nazir/NeurIPS2023_SOC/segmented_videos/1yk4gDSh_Fc_segmented.mp4\n",
      "[✔] Video saved: /home/nazir/NeurIPS2023_SOC/segmented_videos/1ApyqVU93N4_segmented.mp4\n",
      "[✔] Video saved: /home/nazir/NeurIPS2023_SOC/segmented_videos/1gl7xr5rftc_segmented.mp4\n",
      "[✔] Video saved: /home/nazir/NeurIPS2023_SOC/segmented_videos/5DEOQzI8_Mc_segmented.mp4\n",
      "[✔] Video saved: /home/nazir/NeurIPS2023_SOC/segmented_videos/0Ygu7XdkggA_segmented.mp4\n",
      "[✔] Video saved: /home/nazir/NeurIPS2023_SOC/segmented_videos/58ehMXOun1I_segmented.mp4\n",
      "[✔] Video saved: /home/nazir/NeurIPS2023_SOC/segmented_videos/3W48_zP80Jc_segmented.mp4\n",
      "[✔] Video saved: /home/nazir/NeurIPS2023_SOC/segmented_videos/54aJXmDnyXQ_segmented.mp4\n",
      "[✔] Video saved: /home/nazir/NeurIPS2023_SOC/segmented_videos/0KHqCpC2ODA_segmented.mp4\n",
      "[✔] Video saved: /home/nazir/NeurIPS2023_SOC/segmented_videos/5BTwZJWHqmk_segmented.mp4\n",
      "[✔] Video saved: /home/nazir/NeurIPS2023_SOC/segmented_videos/1wUH6OAaLCA_segmented.mp4\n",
      "[✔] Video saved: /home/nazir/NeurIPS2023_SOC/segmented_videos/-esJrBWj2d8_segmented.mp4\n",
      "[✔] Video saved: /home/nazir/NeurIPS2023_SOC/segmented_videos/3TVtsHzjk0g_segmented.mp4\n",
      "[✔] Video saved: /home/nazir/NeurIPS2023_SOC/segmented_videos/29WfZ0cCyXg_segmented.mp4\n",
      "[✔] Video saved: /home/nazir/NeurIPS2023_SOC/segmented_videos/01wmkiDXDD8_segmented.mp4\n",
      "[✔] Video saved: /home/nazir/NeurIPS2023_SOC/segmented_videos/4CZjVBpRQtM_segmented.mp4\n",
      "[✔] Video saved: /home/nazir/NeurIPS2023_SOC/segmented_videos/-ljbOmNX7x0_segmented.mp4\n",
      "[✔] Video saved: /home/nazir/NeurIPS2023_SOC/segmented_videos/-EKuFGo77JM_segmented.mp4\n",
      "[✔] Video saved: /home/nazir/NeurIPS2023_SOC/segmented_videos/1NYANpd5Grs_segmented.mp4\n",
      "[✔] Video saved: /home/nazir/NeurIPS2023_SOC/segmented_videos/3OOe0PEsosM_segmented.mp4\n",
      "[✔] Video saved: /home/nazir/NeurIPS2023_SOC/segmented_videos/1NrSGmxydbE_segmented.mp4\n",
      "[✔] Video saved: /home/nazir/NeurIPS2023_SOC/segmented_videos/-4KMQsUaSAQ_segmented.mp4\n",
      "[✔] Video saved: /home/nazir/NeurIPS2023_SOC/segmented_videos/1NMBNBJejFI_segmented.mp4\n",
      "[✔] Video saved: /home/nazir/NeurIPS2023_SOC/segmented_videos/2xSLG0gm_og_segmented.mp4\n",
      "[✔] Video saved: /home/nazir/NeurIPS2023_SOC/segmented_videos/22WMIu4Zd0w_segmented.mp4\n",
      "[✔] Video saved: /home/nazir/NeurIPS2023_SOC/segmented_videos/0Xm-9oTzWa0_segmented.mp4\n",
      "[✔] Video saved: /home/nazir/NeurIPS2023_SOC/segmented_videos/2_W6uhRvTBI_segmented.mp4\n",
      "[✔] Video saved: /home/nazir/NeurIPS2023_SOC/segmented_videos/3KZt_zA7Z80_segmented.mp4\n",
      "[✔] Video saved: /home/nazir/NeurIPS2023_SOC/segmented_videos/14I_X1_M7B8_segmented.mp4\n",
      "[✔] Video saved: /home/nazir/NeurIPS2023_SOC/segmented_videos/-vkNA2MhpcU_segmented.mp4\n",
      "[✔] Video saved: /home/nazir/NeurIPS2023_SOC/segmented_videos/2hGmD3U7F7I_segmented.mp4\n",
      "[✔] Video saved: /home/nazir/NeurIPS2023_SOC/segmented_videos/4ZKO9NeBhHg_segmented.mp4\n",
      "[✔] Video saved: /home/nazir/NeurIPS2023_SOC/segmented_videos/308iFEokW3k_segmented.mp4\n",
      "[✔] Video saved: /home/nazir/NeurIPS2023_SOC/segmented_videos/-vW_-uMY4N0_segmented.mp4\n"
     ]
    }
   ],
   "source": [
    "import os\n",
    "import re\n",
    "import cv2\n",
    "from collections import defaultdict\n",
    "\n",
    "# Path to the folder containing the segmented frames\n",
    "input_dir = '/home/nazir/NeurIPS2023_SOC/outputs/test_run/v'\n",
    "output_dir = '/home/nazir/NeurIPS2023_SOC/segmented_videos'\n",
    "os.makedirs(output_dir, exist_ok=True)\n",
    "\n",
    "# Regex to extract video_id and frame number\n",
    "pattern = re.compile(r'v_(.+?)_f_(\\d+)_i_\\d+\\.jpg')\n",
    "\n",
    "# Grouping files by video_id\n",
    "video_frames = defaultdict(list)\n",
    "\n",
    "for filename in os.listdir(input_dir):\n",
    "    match = pattern.match(filename)\n",
    "    if match:\n",
    "        video_id = match.group(1)\n",
    "        frame_number = int(match.group(2))\n",
    "        video_frames[video_id].append((frame_number, filename))\n",
    "\n",
    "# Creating videos per video_id\n",
    "for video_id, frames in video_frames.items():\n",
    "    # Sort by frame number\n",
    "    frames.sort(key=lambda x: x[0])\n",
    "    frame_paths = [os.path.join(input_dir, f[1]) for f in frames]\n",
    "\n",
    "    # Read the first frame to get dimensions\n",
    "    first_frame = cv2.imread(frame_paths[0])\n",
    "    height, width, _ = first_frame.shape\n",
    "\n",
    "    output_path = os.path.join(output_dir, f\"{video_id}_segmented.mp4\")\n",
    "    writer = cv2.VideoWriter(output_path, cv2.VideoWriter_fourcc(*'mp4v'), 30, (width, height))\n",
    "\n",
    "    for path in frame_paths:\n",
    "        img = cv2.imread(path)\n",
    "        writer.write(img)\n",
    "\n",
    "    writer.release()\n",
    "    print(f\"[✔] Video saved: {output_path}\")\n"
   ]
  },
  {
   "cell_type": "code",
   "execution_count": 4,
   "id": "4187d988",
   "metadata": {},
   "outputs": [
    {
     "name": "stdout",
     "output_type": "stream",
     "text": [
      "Collecting natsort\n",
      "  Downloading natsort-8.4.0-py3-none-any.whl.metadata (21 kB)\n",
      "Downloading natsort-8.4.0-py3-none-any.whl (38 kB)\n",
      "Installing collected packages: natsort\n",
      "Successfully installed natsort-8.4.0\n"
     ]
    }
   ],
   "source": [
    "!pip install natsort\n"
   ]
  },
  {
   "cell_type": "code",
   "execution_count": 1,
   "id": "3df5407f",
   "metadata": {},
   "outputs": [
    {
     "name": "stdout",
     "output_type": "stream",
     "text": [
      "[INFO] Video saved to /home/nazir/NeurIPS2023_SOC/outputs/test_run/visualized_output.mp4\n"
     ]
    }
   ],
   "source": [
    "import cv2\n",
    "import os\n",
    "from natsort import natsorted  # Make sure frames are sorted correctly\n",
    "\n",
    "image_folder = '/home/nazir/NeurIPS2023_SOC/outputs/test_run/v'\n",
    "output_video = '/home/nazir/NeurIPS2023_SOC/outputs/test_run/visualized_output.mp4'\n",
    "\n",
    "# Get sorted list of images\n",
    "images = [img for img in os.listdir(image_folder) if img.endswith(\".jpg\")]\n",
    "images = natsorted(images)\n",
    "\n",
    "# Read first frame to get dimensions\n",
    "frame = cv2.imread(os.path.join(image_folder, images[0]))\n",
    "height, width, _ = frame.shape\n",
    "\n",
    "# Define video writer\n",
    "fourcc = cv2.VideoWriter_fourcc(*'mp4v')  # You can use 'XVID' for AVI\n",
    "out = cv2.VideoWriter(output_video, fourcc, 15.0, (width, height))\n",
    "\n",
    "for image in images:\n",
    "    frame = cv2.imread(os.path.join(image_folder, image))\n",
    "    out.write(frame)\n",
    "\n",
    "out.release()\n",
    "print(f\"[INFO] Video saved to {output_video}\")\n"
   ]
  },
  {
   "cell_type": "code",
   "execution_count": 5,
   "id": "e0416819",
   "metadata": {},
   "outputs": [],
   "source": [
    "import torch\n",
    "torch.cuda.empty_cache()\n"
   ]
  },
  {
   "cell_type": "code",
   "execution_count": 6,
   "id": "493f903a",
   "metadata": {},
   "outputs": [
    {
     "name": "stdout",
     "output_type": "stream",
     "text": [
      "1\n"
     ]
    }
   ],
   "source": [
    "import torch\n",
    "print(torch.cuda.device_count())\n"
   ]
  },
  {
   "cell_type": "code",
   "execution_count": 7,
   "id": "d13b5084",
   "metadata": {},
   "outputs": [
    {
     "name": "stdout",
     "output_type": "stream",
     "text": [
      "Allocated: 0.00 GB\n",
      "Reserved : 0.00 GB\n"
     ]
    }
   ],
   "source": [
    "print(f\"Allocated: {torch.cuda.memory_allocated() / 1024 ** 3:.2f} GB\")\n",
    "print(f\"Reserved : {torch.cuda.memory_reserved() / 1024 ** 3:.2f} GB\")\n"
   ]
  }
 ],
 "metadata": {
  "kernelspec": {
   "display_name": "b",
   "language": "python",
   "name": "python3"
  },
  "language_info": {
   "codemirror_mode": {
    "name": "ipython",
    "version": 3
   },
   "file_extension": ".py",
   "mimetype": "text/x-python",
   "name": "python",
   "nbconvert_exporter": "python",
   "pygments_lexer": "ipython3",
   "version": "3.9.21"
  }
 },
 "nbformat": 4,
 "nbformat_minor": 5
}
